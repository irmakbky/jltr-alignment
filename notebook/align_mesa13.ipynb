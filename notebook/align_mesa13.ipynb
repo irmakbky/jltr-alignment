{
 "cells": [
  {
   "cell_type": "code",
   "execution_count": 1,
   "id": "6a545167-b463-4951-bdf0-9f7592c2fdf1",
   "metadata": {},
   "outputs": [],
   "source": [
    "%load_ext autoreload\n",
    "%autoreload 2"
   ]
  },
  {
   "cell_type": "code",
   "execution_count": 2,
   "id": "ed58dd7f-e4ce-4420-98a4-8e058c966936",
   "metadata": {},
   "outputs": [],
   "source": [
    "from mus_align.mesa13 import load_mesa13_alignment, load_computed_alignment, load_computed_alignment_baseline"
   ]
  },
  {
   "cell_type": "code",
   "execution_count": 3,
   "id": "33ffa497-867c-4863-aeb5-aa2113573aa6",
   "metadata": {},
   "outputs": [],
   "source": [
    "from mus_align.types import *\n",
    "from mus_align.eval import evaluate"
   ]
  },
  {
   "cell_type": "code",
   "execution_count": 4,
   "id": "57baeab5-2567-4b4f-8740-cf93f5d60f1b",
   "metadata": {},
   "outputs": [
    {
     "name": "stdout",
     "output_type": "stream",
     "text": [
      "Collecting tqdm\n",
      "  Downloading tqdm-4.66.5-py3-none-any.whl.metadata (57 kB)\n",
      "Downloading tqdm-4.66.5-py3-none-any.whl (78 kB)\n",
      "Installing collected packages: tqdm\n",
      "Successfully installed tqdm-4.66.5\n",
      "\u001b[33mWARNING: Running pip as the 'root' user can result in broken permissions and conflicting behaviour with the system package manager, possibly rendering your system unusable.It is recommended to use a virtual environment instead: https://pip.pypa.io/warnings/venv. Use the --root-user-action option if you know what you are doing and want to suppress this warning.\u001b[0m\u001b[33m\n",
      "\u001b[0m"
     ]
    }
   ],
   "source": [
    "! pip install tqdm\n",
    "from tqdm import tqdm"
   ]
  },
  {
   "cell_type": "code",
   "execution_count": 15,
   "id": "49b5acff-2f5e-4c89-9de1-09b88f82e0e0",
   "metadata": {},
   "outputs": [],
   "source": [
    "import os\n",
    "import pickle\n",
    "import numpy as np"
   ]
  },
  {
   "cell_type": "code",
   "execution_count": 6,
   "id": "0d16413c-5fb2-4fab-b04b-9cf160254be5",
   "metadata": {},
   "outputs": [],
   "source": [
    "tags = [\"andante_con_moto\", \"lux_aeterna\", \"maple_leaf_rag\", \"pink_chinese_rag\", \"prelude_in_c\", \"the_maid\",\n",
    "       \"omaggio_a_brahms\", \"promenade\", \"a_lesson\", \"liebestraum\", \"berceuse\", \"gymnopedie\", \"pastorale\"]"
   ]
  },
  {
   "cell_type": "code",
   "execution_count": 7,
   "id": "bf7c2afb-c555-44b0-b65b-50e87130185a",
   "metadata": {},
   "outputs": [],
   "source": [
    "repeats = [\"maple_leaf_rag\", \"a_lesson\"]\n",
    "no_repeats = [\"andante_con_moto\", \"lux_aeterna\", \"pink_chinese_rag\", \"prelude_in_c\", \"the_maid\",\n",
    "       \"omaggio_a_brahms\", \"promenade\", \"liebestraum\", \"berceuse\", \"gymnopedie\", \"pastorale\"]"
   ]
  },
  {
   "cell_type": "markdown",
   "id": "04fe0b41-8135-499f-8c9e-b1cadc591497",
   "metadata": {},
   "source": [
    "### Align and evaluate"
   ]
  },
  {
   "cell_type": "code",
   "execution_count": 48,
   "id": "5a666a81-430c-4d8f-b9c5-8047423de1d7",
   "metadata": {},
   "outputs": [],
   "source": [
    "os.makedirs('alignments/mesa13', exist_ok=True)"
   ]
  },
  {
   "cell_type": "code",
   "execution_count": 49,
   "id": "87bfff83-7501-401d-8c5a-3e79c2d054d5",
   "metadata": {
    "scrolled": true
   },
   "outputs": [],
   "source": [
    "path = 'alignments/mesa13/strict'\n",
    "os.makedirs(path, exist_ok=True)\n",
    "for tag in tqdm(tags):\n",
    "    aligned_score = load_computed_alignment(tag=tag, from_precomputed=False, use_repeats=False, use_measures=False, use_staff_metadata=False)\n",
    "    with open(f'{path}/{tag}_aligned_score.zip', 'wb') as f:\n",
    "        f.write(AlignedScore.as_project_zip(aligned_score))"
   ]
  },
  {
   "cell_type": "code",
   "execution_count": 67,
   "id": "ad8342da-8880-46d1-973c-29460d1f9e0b",
   "metadata": {
    "scrolled": true
   },
   "outputs": [],
   "source": [
    "path = 'alignments/mesa13/jltr'\n",
    "os.makedirs(path, exist_ok=True)\n",
    "for tag in tqdm(tags):\n",
    "    aligned_score = load_computed_alignment(tag=tag, from_precomputed=False, use_repeats=True, use_measures=False, use_staff_metadata=False)\n",
    "    with open(f'{path}/{tag}_aligned_score.zip', 'wb') as f:\n",
    "        f.write(AlignedScore.as_project_zip(aligned_score))"
   ]
  },
  {
   "cell_type": "code",
   "execution_count": 50,
   "id": "b1d59b62-5350-444e-af56-4e53d285e898",
   "metadata": {
    "scrolled": true
   },
   "outputs": [],
   "source": [
    "path = 'alignments/mesa13/weak'\n",
    "os.makedirs(path, exist_ok=True)\n",
    "for tag in tqdm(tags):\n",
    "    aligned_score = load_computed_alignment(tag=tag, from_precomputed=False, use_repeats=True, use_measures=True, use_staff_metadata=False)\n",
    "    with open(f'{path}/{tag}_aligned_score.zip', 'wb') as f:\n",
    "        f.write(AlignedScore.as_project_zip(aligned_score))"
   ]
  },
  {
   "cell_type": "code",
   "execution_count": 51,
   "id": "c1ab9461-b0d8-4fcf-bdc0-5a25c403feac",
   "metadata": {
    "scrolled": true
   },
   "outputs": [],
   "source": [
    "path = 'alignments/mesa13/strong'\n",
    "os.makedirs(path, exist_ok=True)\n",
    "for tag in tqdm(tags):\n",
    "    aligned_score = load_computed_alignment(tag=tag, from_precomputed=False, use_repeats=True, use_measures=True, use_staff_metadata=True)\n",
    "    with open(f'{path}/{tag}_aligned_score.zip', 'wb') as f:\n",
    "        f.write(AlignedScore.as_project_zip(aligned_score))"
   ]
  },
  {
   "cell_type": "code",
   "execution_count": 52,
   "id": "7c3f4a60-28ce-4359-bba8-74ef31da116f",
   "metadata": {
    "scrolled": true
   },
   "outputs": [],
   "source": [
    "path = 'alignments/mesa13/baseline'\n",
    "os.makedirs(path, exist_ok=True)\n",
    "for tag in tqdm(tags):\n",
    "    aligned_score = load_computed_alignment_baseline(tag=tag, from_precomputed=False)\n",
    "    with open(f'{path}/{tag}_aligned_score.zip', 'wb') as f:\n",
    "        f.write(AlignedScore.as_project_zip(aligned_score))"
   ]
  },
  {
   "cell_type": "code",
   "execution_count": 64,
   "id": "3b91f05a-d820-4fd2-84a5-55985bc9d1e4",
   "metadata": {},
   "outputs": [],
   "source": [
    "accs = {'strict': {}, 'jltr': {}, 'weak': {}, 'strong': {}, 'baseline': {}}"
   ]
  },
  {
   "cell_type": "code",
   "execution_count": 65,
   "id": "220c111a-3d74-4d1c-88fb-a2c84ab3b1e1",
   "metadata": {},
   "outputs": [
    {
     "name": "stderr",
     "output_type": "stream",
     "text": [
      "100%|███████████████████████████████████████████| 13/13 [02:31<00:00, 11.69s/it]\n"
     ]
    }
   ],
   "source": [
    "for tag in tqdm(tags):\n",
    "    gt = load_mesa13_alignment(tag=tag)\n",
    "    with open(f'alignments/mesa13/strict/{tag}_aligned_score.zip', 'rb') as f:\n",
    "        aligned_score_strict = AlignedScore.from_project_zip(f.read())\n",
    "    with open(f'alignments/mesa13/jltr/{tag}_aligned_score.zip', 'rb') as f:\n",
    "        aligned_score_jltr = AlignedScore.from_project_zip(f.read())\n",
    "    with open(f'alignments/mesa13/weak/{tag}_aligned_score.zip', 'rb') as f:\n",
    "        aligned_score_weak = AlignedScore.from_project_zip(f.read())\n",
    "    with open(f'alignments/mesa13/strong/{tag}_aligned_score.zip', 'rb') as f:\n",
    "        aligned_score_strong = AlignedScore.from_project_zip(f.read())\n",
    "    with open(f'alignments/mesa13/baseline/{tag}_aligned_score.zip', 'rb') as f:\n",
    "        aligned_score_baseline = AlignedScore.from_project_zip(f.read())\n",
    "    accs['strict'][tag] = evaluate(aligned_score_strict, gt)\n",
    "    accs['jltr'][tag] = evaluate(aligned_score_jltr, gt)\n",
    "    accs['weak'][tag] = evaluate(aligned_score_weak, gt)\n",
    "    accs['strong'][tag] = evaluate(aligned_score_strong, gt)\n",
    "    accs['baseline'][tag] = evaluate(aligned_score_baseline, gt)"
   ]
  },
  {
   "cell_type": "code",
   "execution_count": 66,
   "id": "77e64c86-62b1-472b-a368-d45282b2866c",
   "metadata": {},
   "outputs": [
    {
     "name": "stdout",
     "output_type": "stream",
     "text": [
      "baseline 0.33 10.9 11.6\n",
      "strict 0.72 1.9 3.7\n",
      "jltr 0.82 0.4 0.2\n",
      "weak 0.86 0.4 0.2\n",
      "strong 0.88 0.3 0.2\n",
      "--\n",
      "baseline 0.17 23.6 10.2\n",
      "strict 0.2 10.0 3.0\n",
      "jltr 0.83 0.3 0.0\n",
      "weak 0.93 0.2 0.0\n",
      "strong 0.95 0.2 0.0\n",
      "--\n",
      "baseline 0.36 8.6 10.2\n",
      "strict 0.82 0.4 0.2\n",
      "jltr 0.82 0.4 0.2\n",
      "weak 0.85 0.4 0.3\n",
      "strong 0.87 0.3 0.2\n",
      "--\n"
     ]
    }
   ],
   "source": [
    "for m in [tags, repeats, no_repeats]:\n",
    "    print('baseline', round(np.mean([accs['baseline'][k][0] for k in m]), 2), round(np.mean([np.mean(accs['baseline'][k][1]) for k in m]), 1), \n",
    "          round(np.std([np.mean(accs['baseline'][k][1]) for k in m]),1))\n",
    "    print('strict', round(np.mean([accs['strict'][k][0] for k in m]), 2), round(np.mean([np.mean(accs['strict'][k][1]) for k in m]), 1), \n",
    "          round(np.std([np.mean(accs['strict'][k][1]) for k in m]),1))\n",
    "    print('jltr', round(np.mean([accs['jltr'][k][0] for k in m]), 2), round(np.mean([np.mean(accs['jltr'][k][1]) for k in m]), 1), \n",
    "          round(np.std([np.mean(accs['jltr'][k][1]) for k in m]),1))\n",
    "    print('weak', round(np.mean([accs['weak'][k][0] for k in m]), 2), round(np.mean([np.mean(accs['weak'][k][1]) for k in m]), 1), \n",
    "          round(np.std([np.mean(accs['weak'][k][1]) for k in m]),1))\n",
    "    print('strong', round(np.mean([accs['strong'][k][0] for k in m]), 2), round(np.mean([np.mean(accs['strong'][k][1]) for k in m]), 1), \n",
    "          round(np.std([np.mean(accs['strong'][k][1]) for k in m]),1))\n",
    "    print('--')"
   ]
  },
  {
   "cell_type": "markdown",
   "id": "c0c19b30-3c91-42cc-8e5b-ae7446e003ae",
   "metadata": {},
   "source": [
    "### Evaluate from precomputed"
   ]
  },
  {
   "cell_type": "code",
   "execution_count": 8,
   "id": "107ec48a-a958-482b-a4a4-78398d353629",
   "metadata": {},
   "outputs": [],
   "source": [
    "accs = {'strict': {}, 'jltr': {}, 'weak': {}, 'strong': {}, 'baseline': {}}"
   ]
  },
  {
   "cell_type": "code",
   "execution_count": 18,
   "id": "c730f726-b2c9-4cb4-b199-27dcd2811c30",
   "metadata": {},
   "outputs": [
    {
     "name": "stderr",
     "output_type": "stream",
     "text": [
      "100%|███████████████████████████████████████████| 13/13 [02:08<00:00,  9.90s/it]\n"
     ]
    }
   ],
   "source": [
    "for tag in tqdm(tags):\n",
    "    gt = load_mesa13_alignment(tag=tag)\n",
    "    for setting in accs.keys():\n",
    "        with open(f\"alignments/mesa13/{setting}/{tag}_aligned_score.zip\", \"rb\") as f:\n",
    "            aligned_score = AlignedScore.from_project_zip(f.read())\n",
    "        accs[setting][tag] = evaluate(aligned_score, gt)"
   ]
  },
  {
   "cell_type": "code",
   "execution_count": 19,
   "id": "f77ed8cc-c55f-4cf3-87b3-cb8a9414da36",
   "metadata": {},
   "outputs": [
    {
     "name": "stdout",
     "output_type": "stream",
     "text": [
      "baseline 0.33 10.9 11.6\n",
      "strict 0.72 1.9 3.7\n",
      "jltr 0.82 0.4 0.2\n",
      "weak 0.86 0.4 0.2\n",
      "strong 0.88 0.3 0.2\n",
      "--\n",
      "baseline 0.17 23.6 10.2\n",
      "strict 0.2 10.0 3.0\n",
      "jltr 0.83 0.3 0.0\n",
      "weak 0.93 0.2 0.0\n",
      "strong 0.95 0.2 0.0\n",
      "--\n",
      "baseline 0.36 8.6 10.2\n",
      "strict 0.82 0.4 0.2\n",
      "jltr 0.82 0.4 0.2\n",
      "weak 0.85 0.4 0.3\n",
      "strong 0.87 0.3 0.2\n",
      "--\n"
     ]
    }
   ],
   "source": [
    "for m in [tags, repeats, no_repeats]:\n",
    "    print('baseline', round(np.mean([accs['baseline'][k][0] for k in m]), 2), round(np.mean([np.mean(accs['baseline'][k][1]) for k in m]), 1), \n",
    "          round(np.std([np.mean(accs['baseline'][k][1]) for k in m]),1))\n",
    "    print('strict', round(np.mean([accs['strict'][k][0] for k in m]), 2), round(np.mean([np.mean(accs['strict'][k][1]) for k in m]), 1), \n",
    "          round(np.std([np.mean(accs['strict'][k][1]) for k in m]),1))\n",
    "    print('jltr', round(np.mean([accs['jltr'][k][0] for k in m]), 2), round(np.mean([np.mean(accs['jltr'][k][1]) for k in m]), 1), \n",
    "          round(np.std([np.mean(accs['jltr'][k][1]) for k in m]),1))\n",
    "    print('weak', round(np.mean([accs['weak'][k][0] for k in m]), 2), round(np.mean([np.mean(accs['weak'][k][1]) for k in m]), 1), \n",
    "          round(np.std([np.mean(accs['weak'][k][1]) for k in m]),1))\n",
    "    print('strong', round(np.mean([accs['strong'][k][0] for k in m]), 2), round(np.mean([np.mean(accs['strong'][k][1]) for k in m]), 1), \n",
    "          round(np.std([np.mean(accs['strong'][k][1]) for k in m]),1))\n",
    "    print('--')"
   ]
  },
  {
   "cell_type": "code",
   "execution_count": null,
   "id": "7071e4e8-d7e6-4ec5-a70b-7837dfa2574c",
   "metadata": {},
   "outputs": [],
   "source": []
  }
 ],
 "metadata": {
  "kernelspec": {
   "display_name": "Python 3 (ipykernel)",
   "language": "python",
   "name": "python3"
  },
  "language_info": {
   "codemirror_mode": {
    "name": "ipython",
    "version": 3
   },
   "file_extension": ".py",
   "mimetype": "text/x-python",
   "name": "python",
   "nbconvert_exporter": "python",
   "pygments_lexer": "ipython3",
   "version": "3.8.10"
  }
 },
 "nbformat": 4,
 "nbformat_minor": 5
}
